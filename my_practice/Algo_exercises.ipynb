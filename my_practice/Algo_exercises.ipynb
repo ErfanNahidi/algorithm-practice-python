{
 "cells": [
  {
   "cell_type": "markdown",
   "id": "ec3d912f",
   "metadata": {},
   "source": [
    "# Palindrome"
   ]
  },
  {
   "cell_type": "code",
   "execution_count": 1,
   "id": "4a698e7f",
   "metadata": {},
   "outputs": [
    {
     "name": "stdout",
     "output_type": "stream",
     "text": [
      "True\n"
     ]
    }
   ],
   "source": [
    "def check_pali(string):\n",
    "    for i in range(len(string)//2):\n",
    "        if string[i] != string[len(string)-i-1]:\n",
    "            return False\n",
    "    return True\n",
    "\n",
    "string = \"damad\"\n",
    "print(check_pali(string))"
   ]
  },
  {
   "cell_type": "markdown",
   "id": "bc52a55c",
   "metadata": {},
   "source": [
    "# count occurrences O(N)\n",
    "\n",
    "I faild it "
   ]
  },
  {
   "cell_type": "code",
   "execution_count": 2,
   "id": "6a686f23",
   "metadata": {},
   "outputs": [
    {
     "name": "stdout",
     "output_type": "stream",
     "text": [
      "The number 1 appears 2 times\n",
      "The number 2 appears 1 times\n",
      "The number 3 appears 1 times\n",
      "The number 4 appears 1 times\n",
      "The number 5 appears 3 times\n",
      "The number 6 appears 3 times\n",
      "The number 7 appears 1 times\n",
      "The number 9 appears 6 times\n"
     ]
    }
   ],
   "source": [
    "def count_occurrences(list):\n",
    "    arr.sort()\n",
    "    count = 1\n",
    "    for i in range(1, len(arr)):\n",
    "        if arr[i] == arr[i - 1]:\n",
    "            count += 1\n",
    "        else:\n",
    "            print(f\"The number {arr[i - 1]} appears {count} times\")\n",
    "            count = 1\n",
    "    print(f\"The number {arr[-1]} appears {count} times\")\n",
    "\n",
    "\n",
    "arr = [1, 1, 2, 3, 4, 5, 5, 5, 6, 6, 6, 7, 9, 9, 9, 9, 9, 9]\n",
    "count_occurrences(arr)    "
   ]
  },
  {
   "cell_type": "markdown",
   "id": "bbbd036d",
   "metadata": {},
   "source": [
    "# sum n numbers Super fast with formula O(1)"
   ]
  },
  {
   "cell_type": "code",
   "execution_count": 3,
   "id": "2fa1818a",
   "metadata": {},
   "outputs": [
    {
     "name": "stdout",
     "output_type": "stream",
     "text": [
      "500000000000000000000000000000500000000000000000000000000000\n"
     ]
    }
   ],
   "source": [
    "def sum_n(n):\n",
    "    Sum = n * (n + 1) // 2\n",
    "    return Sum\n",
    "\n",
    "print(sum_n(1000000000000000000000000000000))"
   ]
  },
  {
   "cell_type": "markdown",
   "id": "75513eb2",
   "metadata": {},
   "source": [
    "# sum n numbers Super fast without formula O(N)"
   ]
  },
  {
   "cell_type": "code",
   "execution_count": 4,
   "id": "8b319a7d",
   "metadata": {},
   "outputs": [
    {
     "name": "stdout",
     "output_type": "stream",
     "text": [
      "55\n"
     ]
    }
   ],
   "source": [
    "def sum_n(n):\n",
    "    total = 0\n",
    "    for i in range(1, n + 1):\n",
    "        total += i\n",
    "    return total\n",
    "\n",
    "print(sum_n(10))"
   ]
  },
  {
   "cell_type": "markdown",
   "id": "d4a97565",
   "metadata": {},
   "source": [
    "# has_duplicate?? O(N)"
   ]
  },
  {
   "cell_type": "code",
   "execution_count": 5,
   "id": "e0b49dc5",
   "metadata": {},
   "outputs": [
    {
     "name": "stdout",
     "output_type": "stream",
     "text": [
      "True\n"
     ]
    }
   ],
   "source": [
    "def has_duplicate(list):\n",
    "    uniqe = set(list)\n",
    "    if len(list) != len(uniqe):\n",
    "        return True\n",
    "    else:\n",
    "        return False\n",
    "\n",
    "\n",
    "\n",
    "list = [1, 2, 3, 2]\n",
    "print(has_duplicate(list))"
   ]
  },
  {
   "cell_type": "markdown",
   "id": "8b601d21",
   "metadata": {},
   "source": [
    "# House Robber O(N) time , O(1) memory\n"
   ]
  },
  {
   "cell_type": "markdown",
   "id": "36ca71b5",
   "metadata": {},
   "source": [
    "### Description of the game:\n",
    "\n",
    "In this game, you have a series of houses, each containing a certain amount of money. Your goal is to collect the most money possible without choosing two houses in a row. In other words, if you choose a house, its neighboring houses cannot be chosen."
   ]
  },
  {
   "cell_type": "markdown",
   "id": "1cf74a32",
   "metadata": {},
   "source": [
    "### How we cam solve it???\n",
    "\n",
    "\n",
    "The algorithm solves the \"House Robber\" problem by iterating through the list of house values, selecting the maximum possible sum without robbing two adjacent houses, using dynamic programming."
   ]
  },
  {
   "cell_type": "code",
   "execution_count": 6,
   "id": "680796fe",
   "metadata": {},
   "outputs": [
    {
     "name": "stdout",
     "output_type": "stream",
     "text": [
      "15\n"
     ]
    }
   ],
   "source": [
    "def Robber(List):\n",
    "    if len(List) == 0:\n",
    "        return 0\n",
    "    elif len(List) == 1:\n",
    "        return List[0]\n",
    "    else:\n",
    "        prev2 = List[0]\n",
    "        prev1 = max(List[0], List[1])\n",
    "        for i in range(2, len(List)):\n",
    "            current = max(prev1, List[i] + prev2)\n",
    "            prev2 = prev1\n",
    "            prev1 = current\n",
    "        return prev1\n",
    "\n",
    "\n",
    "\n",
    "\n",
    "List = [1,5,8,3,4,6]\n",
    "print(Robber(List))"
   ]
  },
  {
   "cell_type": "markdown",
   "id": "172be1a4",
   "metadata": {},
   "source": [
    "# Greedy Algorithm - Activity Selection Problem ( with greedy algo O(n) ) \n",
    "## My idea is faild beacuse has O(nLogn) big O"
   ]
  },
  {
   "cell_type": "markdown",
   "id": "ce7ab553",
   "metadata": {},
   "source": [
    "### prsian_description :\n",
    "\n",
    "(مسئله انتخاب فعالیت با الگوریتم حریصانه)\n",
    "\n",
    "شرح مسئله:\n",
    "یه نفر می‌خواد در طول روز، بیشترین تعداد ممکن از فعالیت‌ها رو انجام بده. هر فعالیت، یه زمان شروع و یه زمان پایان داره. ولی نمی‌تونه هم‌زمان دو فعالیت انجام بده. می‌خوایم اون فعالیت‌هایی رو انتخاب کنیم که با هم تداخل ندارن و تعدادشون بیشینه باشه.\n",
    "\n",
    "\n",
    "\n",
    "ورودی نمونه:\n",
    "لیست فعالیت‌ها به صورت (start_time, end_time):\n",
    "\n",
    "activities = [\n",
    "    (1, 4),\n",
    "    (3, 5),\n",
    "    (0, 6),\n",
    "    (5, 7),\n",
    "    (3, 9),\n",
    "    (5, 9),\n",
    "    (6, 10),\n",
    "    (8, 11),\n",
    "    (8, 12),\n",
    "    (2, 14),\n",
    "    (12, 16)\n",
    "]"
   ]
  },
  {
   "cell_type": "markdown",
   "id": "4a2a9cde",
   "metadata": {},
   "source": [
    "#### How we can solve it?\n",
    "\n",
    "select with the shortest end_time"
   ]
  },
  {
   "cell_type": "markdown",
   "id": "2dd46494",
   "metadata": {},
   "source": []
  },
  {
   "cell_type": "code",
   "execution_count": 7,
   "id": "4b451f51",
   "metadata": {},
   "outputs": [
    {
     "name": "stdout",
     "output_type": "stream",
     "text": [
      "[(1, 4), (5, 7), (8, 11), (12, 16)]\n"
     ]
    }
   ],
   "source": [
    "def select_task(my_list):\n",
    "    sorted_list = sorted(my_list  , key = lambda x: x[1])\n",
    "    last_end = 0\n",
    "    selected = []\n",
    "    for start , end in sorted_list:\n",
    "        if start >= last_end:\n",
    "            selected.append((start , end))\n",
    "            last_end = end\n",
    "    return selected\n",
    "\n",
    "\n",
    "\n",
    "\n",
    "my_list = activities = [(1, 4),(3, 5),(0, 6),(5, 7),(3, 9),(5, 9),(6, 10),(8, 11),(8, 12),(2, 14),(12, 16)]\n",
    "print(select_task(my_list))\n"
   ]
  },
  {
   "cell_type": "markdown",
   "id": "cdf70445",
   "metadata": {},
   "source": [
    "## result\n",
    "\n",
    "Time: O(n log n)\n",
    "\n",
    "Space: O(n)"
   ]
  },
  {
   "cell_type": "code",
   "execution_count": 8,
   "id": "e817c24d",
   "metadata": {},
   "outputs": [
    {
     "ename": "TypeError",
     "evalue": "'int' object is not subscriptable",
     "output_type": "error",
     "traceback": [
      "\u001b[0;31m---------------------------------------------------------------------------\u001b[0m",
      "\u001b[0;31mTypeError\u001b[0m                                 Traceback (most recent call last)",
      "Cell \u001b[0;32mIn[8], line 1\u001b[0m\n\u001b[0;32m----> 1\u001b[0m \u001b[38;5;28;43mlist\u001b[39;49m\u001b[43m[\u001b[49m\u001b[38;5;241;43m1\u001b[39;49m\u001b[43m]\u001b[49m\u001b[43m[\u001b[49m\u001b[38;5;241;43m1\u001b[39;49m\u001b[43m]\u001b[49m\n",
      "\u001b[0;31mTypeError\u001b[0m: 'int' object is not subscriptable"
     ]
    }
   ],
   "source": [
    "list[1][1]"
   ]
  },
  {
   "cell_type": "markdown",
   "id": "3717bd2f",
   "metadata": {},
   "source": [
    "# Knapsack Problem"
   ]
  },
  {
   "cell_type": "markdown",
   "id": "36df595a",
   "metadata": {},
   "source": [
    "## persian_description:\n",
    "\n",
    "شرح کوتاه:\n",
    "فرض کن یه دزد وارد یه مغازه میشه. یه کوله‌پشتی با ظرفیت مشخص داره (مثلاً 20 کیلوگرم). توی مغازه چند تا آیتم هست که هر کدوم وزن و ارزش خاصی دارن. دزد باید آیتم‌هایی رو انتخاب کنه که هم داخل کوله‌پشتی جا بشن و هم بیشترین ارزش ممکن رو داشته باشن. ولی از هر آیتم فقط یکی می‌تونه برداره (0 یا 1).\n",
    "\n",
    "سؤال:\n",
    "با توجه به ظرفیت محدود و لیست آیتم‌ها (هر کدوم با وزن و ارزش مشخص)، کدوم آیتم‌ها باید انتخاب بشن که مجموع ارزش نهایی بیشینه بشه؟"
   ]
  },
  {
   "cell_type": "code",
   "execution_count": null,
   "id": "501bed5f",
   "metadata": {},
   "outputs": [
    {
     "name": "stdout",
     "output_type": "stream",
     "text": [
      "17500\n"
     ]
    }
   ],
   "source": [
    "capacity = 20\n",
    "items = [\n",
    "    {\"name\": \"A\", \"weight\": 4, \"value\": 3000},\n",
    "    {\"name\": \"B\", \"weight\": 2, \"value\": 2000},\n",
    "    {\"name\": \"C\", \"weight\": 6, \"value\": 6000},\n",
    "    {\"name\": \"D\", \"weight\": 3, \"value\": 2500},\n",
    "    {\"name\": \"E\", \"weight\": 5, \"value\": 4000},\n",
    "]\n",
    "\n",
    "n = len(items)\n",
    "W = capacity\n",
    "\n",
    "dp = [0] * (W + 1)\n",
    "\n",
    "for i in range(n):\n",
    "    wt = items[i][\"weight\"]\n",
    "    val = items[i][\"value\"]\n",
    "    for w in range(W, wt - 1, -1):\n",
    "        dp[w] = max(dp[w], dp[w - wt] + val)\n",
    "\n",
    "print(dp[W])\n"
   ]
  },
  {
   "cell_type": "markdown",
   "id": "4b98eb11",
   "metadata": {},
   "source": [
    "## result\n",
    "\n",
    "Time: O(n * W)\n",
    "\n",
    "Space: O(W)"
   ]
  },
  {
   "cell_type": "markdown",
   "id": "060fb473",
   "metadata": {},
   "source": [
    "# Find the greatest common divisor"
   ]
  },
  {
   "cell_type": "markdown",
   "id": "74a0d08d",
   "metadata": {},
   "source": [
    "## solution 1 \n",
    "\n",
    "        Consecutive Integer Checking Algorithm"
   ]
  },
  {
   "cell_type": "code",
   "execution_count": 11,
   "id": "515f62f0",
   "metadata": {},
   "outputs": [
    {
     "name": "stdout",
     "output_type": "stream",
     "text": [
      "12\n"
     ]
    }
   ],
   "source": [
    "def gcd(m,n):\n",
    "    small = m if m < n else n\n",
    "    if small == 0:\n",
    "        return abs(m)\n",
    "    while small > 0:\n",
    "        if m % small == 0 and n % small == 0:\n",
    "            return small\n",
    "        else:\n",
    "            small -= 1\n",
    "\n",
    "print(gcd(60 , 24))"
   ]
  },
  {
   "cell_type": "markdown",
   "id": "d4d97241",
   "metadata": {},
   "source": [
    "## solution 2\n",
    "\n",
    "        Middle-School Algorithm"
   ]
  },
  {
   "cell_type": "code",
   "execution_count": 13,
   "id": "631415a4",
   "metadata": {},
   "outputs": [],
   "source": [
    "None\n",
    "# we cant write its code in python"
   ]
  },
  {
   "cell_type": "markdown",
   "id": "50b327b7",
   "metadata": {},
   "source": [
    "## solution 3\n",
    "\n",
    "    Euclid’s Algorithm"
   ]
  },
  {
   "cell_type": "code",
   "execution_count": 15,
   "id": "e427340f",
   "metadata": {},
   "outputs": [
    {
     "name": "stdout",
     "output_type": "stream",
     "text": [
      "12\n"
     ]
    }
   ],
   "source": [
    "def gcd(m, n):\n",
    "    while True:\n",
    "        if n == 0:\n",
    "            return abs(m)\n",
    "        else:\n",
    "            r = m % n\n",
    "            m, n = n, r\n",
    "\n",
    "print(gcd(60, 24))"
   ]
  }
 ],
 "metadata": {
  "kernelspec": {
   "display_name": "venv",
   "language": "python",
   "name": "python3"
  },
  "language_info": {
   "codemirror_mode": {
    "name": "ipython",
    "version": 3
   },
   "file_extension": ".py",
   "mimetype": "text/x-python",
   "name": "python",
   "nbconvert_exporter": "python",
   "pygments_lexer": "ipython3",
   "version": "3.13.3"
  }
 },
 "nbformat": 4,
 "nbformat_minor": 5
}

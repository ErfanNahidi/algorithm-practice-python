{
 "cells": [
  {
   "cell_type": "code",
   "execution_count": 23,
   "id": "e6d005cd",
   "metadata": {},
   "outputs": [],
   "source": [
    "import string\n",
    "\n",
    "def normalize_text(text):\n",
    "    return ''.join(c.lower() for c in text if c.isalpha())\n",
    "\n",
    "def decrypt_vigenere(cipher_text, key):\n",
    "    alphabet = string.ascii_lowercase\n",
    "    key = normalize_text(key)\n",
    "    plain_text = ''\n",
    "    key_index = 0\n",
    "    for char in cipher_text:\n",
    "        if char.lower() in alphabet:\n",
    "            shift = alphabet.index(key[key_index])\n",
    "            new_index = (alphabet.index(char.lower()) - shift) % len(alphabet)\n",
    "            plain_char = alphabet[new_index]\n",
    "            plain_text += plain_char.upper() if char.isupper() else plain_char\n",
    "            key_index = (key_index + 1) % len(key)\n",
    "        else:\n",
    "            plain_text += char\n",
    "    return plain_text"
   ]
  }
 ],
 "metadata": {
  "kernelspec": {
   "display_name": "venv",
   "language": "python",
   "name": "python3"
  },
  "language_info": {
   "codemirror_mode": {
    "name": "ipython",
    "version": 3
   },
   "file_extension": ".py",
   "mimetype": "text/x-python",
   "name": "python",
   "nbconvert_exporter": "python",
   "pygments_lexer": "ipython3",
   "version": "3.13.3"
  }
 },
 "nbformat": 4,
 "nbformat_minor": 5
}

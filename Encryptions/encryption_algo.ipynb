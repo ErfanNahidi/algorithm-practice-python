{
 "cells": [
  {
   "cell_type": "markdown",
   "id": "6bc9bfd4",
   "metadata": {},
   "source": [
    "#  Caesar Cipher"
   ]
  },
  {
   "cell_type": "code",
   "execution_count": 1,
   "id": "858cfc7c",
   "metadata": {},
   "outputs": [
    {
     "name": "stdout",
     "output_type": "stream",
     "text": [
      "Khoor Zruog\n"
     ]
    }
   ],
   "source": [
    "import string\n",
    "\n",
    "def Caesar(plain_text, key):\n",
    "    upper_alphabet = string.ascii_uppercase\n",
    "    lower_alphabet = string.ascii_lowercase\n",
    "    Cipher_text = \"\"\n",
    "    \n",
    "    for char in plain_text:\n",
    "        if char in upper_alphabet:\n",
    "            index = upper_alphabet.index(char)\n",
    "            new_index = (index + key) % len(upper_alphabet)\n",
    "            Cipher_text += upper_alphabet[new_index]\n",
    "        elif char in lower_alphabet:  # حروف کوچک\n",
    "            index = lower_alphabet.index(char)\n",
    "            new_index = (index + key) % len(lower_alphabet)\n",
    "            Cipher_text += lower_alphabet[new_index]\n",
    "        else:\n",
    "            Cipher_text += char\n",
    "\n",
    "    return Cipher_text\n",
    "\n",
    "\n",
    "plain_text = \"Hello World\"\n",
    "key = 3\n",
    "Cipher_text = Caesar(plain_text, key)\n",
    "print(Cipher_text)\n"
   ]
  },
  {
   "cell_type": "markdown",
   "id": "3b480945",
   "metadata": {},
   "source": [
    "# Vigenere"
   ]
  },
  {
   "cell_type": "code",
   "execution_count": 2,
   "id": "459a0141",
   "metadata": {},
   "outputs": [
    {
     "name": "stdout",
     "output_type": "stream",
     "text": [
      "rijvs uyvjn\n"
     ]
    }
   ],
   "source": [
    "import string\n",
    "\n",
    "def Vigenere(plain_text, key):\n",
    "    Alphabet = string.ascii_lowercase\n",
    "    plain_text = plain_text.lower()\n",
    "    key = key.lower()\n",
    "    cipher_text = ''\n",
    "    key_index = 0\n",
    "\n",
    "    for char in plain_text:\n",
    "        if char in Alphabet:\n",
    "            shift = Alphabet.index(key[key_index])\n",
    "            new_index = (Alphabet.index(char) + shift) % len(Alphabet)\n",
    "            cipher_text += Alphabet[new_index]\n",
    "            key_index = (key_index + 1) % len(key)\n",
    "        else:\n",
    "            cipher_text += char\n",
    "\n",
    "    return cipher_text\n",
    "\n",
    "plain_text = \"Hello World\"\n",
    "key = \"key\"\n",
    "Cipher_text = Vigenere(plain_text, key)\n",
    "print(Cipher_text)"
   ]
  }
 ],
 "metadata": {
  "kernelspec": {
   "display_name": ".venv",
   "language": "python",
   "name": "python3"
  },
  "language_info": {
   "codemirror_mode": {
    "name": "ipython",
    "version": 3
   },
   "file_extension": ".py",
   "mimetype": "text/x-python",
   "name": "python",
   "nbconvert_exporter": "python",
   "pygments_lexer": "ipython3",
   "version": "3.13.3"
  }
 },
 "nbformat": 4,
 "nbformat_minor": 5
}

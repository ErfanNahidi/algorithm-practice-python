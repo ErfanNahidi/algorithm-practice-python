{
 "cells": [
  {
   "cell_type": "markdown",
   "id": "c6d1f922",
   "metadata": {},
   "source": [
    "# 2894. Divisible and Non-divisible Sums Difference (I faild)"
   ]
  },
  {
   "cell_type": "code",
   "execution_count": 9,
   "id": "e341a2ec",
   "metadata": {},
   "outputs": [
    {
     "name": "stdout",
     "output_type": "stream",
     "text": [
      "19\n"
     ]
    }
   ],
   "source": [
    "class Solution:\n",
    "    def differenceOfSums(self, n: int, m: int) -> int:\n",
    "        total_sum = n * (n + 1) // 2\n",
    "        k = n // m\n",
    "        divisible_sum = m * (k * (k + 1)) // 2\n",
    "        return total_sum - 2 * divisible_sum\n",
    "\n",
    "n = 10\n",
    "m = 3\n",
    "print(Solution().differenceOfSums(n, m))"
   ]
  },
  {
   "cell_type": "markdown",
   "id": "d9e4becc",
   "metadata": {},
   "source": [
    "# 9. Palindrome Number"
   ]
  },
  {
   "cell_type": "code",
   "execution_count": null,
   "id": "fb7a7d0b",
   "metadata": {},
   "outputs": [
    {
     "name": "stdout",
     "output_type": "stream",
     "text": [
      "True\n"
     ]
    }
   ],
   "source": [
    "class Solution:\n",
    "    def isPalindrome(self, number:int) -> bool:\n",
    "        rem , rev = 0 , 0\n",
    "        original = number\n",
    "        while number > 0:\n",
    "            rem = number % 10\n",
    "            rev = rev * 10 + rem\n",
    "            number //= 10\n",
    "        return original == rev\n",
    "\n",
    "number = 121\n",
    "print(Solution().isPalindrome(number))"
   ]
  },
  {
   "cell_type": "markdown",
   "id": "a0e47ec0",
   "metadata": {},
   "source": [
    "# 9. Palindrome Number (super fast) (ai edition)"
   ]
  },
  {
   "cell_type": "code",
   "execution_count": 11,
   "id": "f46b9596",
   "metadata": {},
   "outputs": [
    {
     "name": "stdout",
     "output_type": "stream",
     "text": [
      "True\n",
      "True\n",
      "False\n",
      "False\n"
     ]
    }
   ],
   "source": [
    "class Solution:\n",
    "    def isPalindrome(self, number: int) -> bool:\n",
    "        if number < 0 or (number % 10 == 0 and number != 0):\n",
    "            return False\n",
    "\n",
    "        reversed_half = 0\n",
    "        while number > reversed_half:\n",
    "            reversed_half = reversed_half * 10 + number % 10\n",
    "            number //= 10\n",
    "\n",
    "        return number == reversed_half or number == reversed_half // 10\n",
    "\n",
    "# تست\n",
    "print(Solution().isPalindrome(121))  # True\n",
    "print(Solution().isPalindrome(12321))  # True\n",
    "print(Solution().isPalindrome(10))  # False\n",
    "print(Solution().isPalindrome(-121))  # False\n"
   ]
  },
  {
   "cell_type": "markdown",
   "id": "513d8cb9",
   "metadata": {},
   "source": [
    "### super super fast"
   ]
  },
  {
   "cell_type": "code",
   "execution_count": 13,
   "id": "ec249bb0",
   "metadata": {},
   "outputs": [],
   "source": [
    "class Solution:\n",
    "    def isPalindrome(self, x: int) -> bool:\n",
    "        if x < 0 or (x % 10 == 0 and x != 0):\n",
    "            return False\n",
    "\n",
    "        reversed_half = 0\n",
    "        while x > reversed_half:\n",
    "            reversed_half = reversed_half * 10 + x % 10\n",
    "            x //= 10\n",
    "\n",
    "        return x == reversed_half or x == reversed_half // 10"
   ]
  },
  {
   "cell_type": "markdown",
   "id": "78623a1a",
   "metadata": {},
   "source": [
    "# 13. Roman to Integer [ai edition]"
   ]
  },
  {
   "cell_type": "code",
   "execution_count": null,
   "id": "25c3d857",
   "metadata": {},
   "outputs": [
    {
     "name": "stdout",
     "output_type": "stream",
     "text": [
      "1994\n"
     ]
    }
   ],
   "source": [
    "class Solution:\n",
    "    def romanToInt(self, string: str) -> int:\n",
    "        roman_values = {\n",
    "            'I': 1,\n",
    "            'V': 5,\n",
    "            'X': 10,\n",
    "            'L': 50,\n",
    "            'C': 100,\n",
    "            'D': 500,\n",
    "            'M': 1000\n",
    "        }\n",
    "        total = 0\n",
    "        prev_value = 0\n",
    "        for char in reversed(string):\n",
    "            value = roman_values[char]\n",
    "            if value < prev_value:\n",
    "                total -= value\n",
    "            else:\n",
    "                total += value\n",
    "            prev_value = value\n",
    "        return total\n",
    "\n",
    "\n",
    "string = \"MCMXCIV\"  # 1994\n",
    "print(Solution().romanToInt(string))\n"
   ]
  }
 ],
 "metadata": {
  "kernelspec": {
   "display_name": "venv",
   "language": "python",
   "name": "python3"
  },
  "language_info": {
   "codemirror_mode": {
    "name": "ipython",
    "version": 3
   },
   "file_extension": ".py",
   "mimetype": "text/x-python",
   "name": "python",
   "nbconvert_exporter": "python",
   "pygments_lexer": "ipython3",
   "version": "3.13.3"
  }
 },
 "nbformat": 4,
 "nbformat_minor": 5
}

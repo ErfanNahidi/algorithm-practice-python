{
 "cells": [
  {
   "cell_type": "markdown",
   "id": "c6d1f922",
   "metadata": {},
   "source": [
    "# 2894. Divisible and Non-divisible Sums Difference (I faild)"
   ]
  },
  {
   "cell_type": "code",
   "execution_count": 9,
   "id": "e341a2ec",
   "metadata": {},
   "outputs": [
    {
     "name": "stdout",
     "output_type": "stream",
     "text": [
      "19\n"
     ]
    }
   ],
   "source": [
    "class Solution:\n",
    "    def differenceOfSums(self, n: int, m: int) -> int:\n",
    "        total_sum = n * (n + 1) // 2\n",
    "        k = n // m\n",
    "        divisible_sum = m * (k * (k + 1)) // 2\n",
    "        return total_sum - 2 * divisible_sum\n",
    "\n",
    "n = 10\n",
    "m = 3\n",
    "print(Solution().differenceOfSums(n, m))"
   ]
  }
 ],
 "metadata": {
  "kernelspec": {
   "display_name": "venv",
   "language": "python",
   "name": "python3"
  },
  "language_info": {
   "codemirror_mode": {
    "name": "ipython",
    "version": 3
   },
   "file_extension": ".py",
   "mimetype": "text/x-python",
   "name": "python",
   "nbconvert_exporter": "python",
   "pygments_lexer": "ipython3",
   "version": "3.13.3"
  }
 },
 "nbformat": 4,
 "nbformat_minor": 5
}

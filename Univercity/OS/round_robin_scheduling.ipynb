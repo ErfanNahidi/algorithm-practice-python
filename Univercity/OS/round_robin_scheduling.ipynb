{
 "cells": [
  {
   "cell_type": "markdown",
   "metadata": {},
   "source": [
    "## تعریف ساختار فرآیند (Process)\n",
    "\n",
    "در این بخش یک کلاس برای نگهداری اطلاعات هر فرآیند تعریف می‌کنیم:\n",
    "- شناسه فرآیند (pid)\n",
    "- زمان ورود (arrivalTime)\n",
    "- زمان اجرای مورد نیاز (burstTime)\n",
    "- زمان باقی‌مانده (remainingTime)\n",
    "- زمان انتظار (waitingTime)\n",
    "- زمان بازگشت (turnaroundTime)\n",
    "- زمان اتمام (completionTime)"
   ]
  },
  {
   "cell_type": "code",
   "execution_count": 1,
   "metadata": {},
   "outputs": [],
   "source": [
    "class Process:\n",
    "    def __init__(self, pid, arrivalTime, burstTime):\n",
    "        self.pid = pid\n",
    "        self.arrivalTime = arrivalTime\n",
    "        self.burstTime = burstTime\n",
    "        self.remainingTime = burstTime\n",
    "        self.waitingTime = 0\n",
    "        self.turnaroundTime = 0\n",
    "        self.completionTime = 0"
   ]
  },
  {
   "cell_type": "markdown",
   "metadata": {},
   "source": [
    "## الگوریتم Round Robin\n",
    "\n",
    "ورودی:\n",
    "- لیستی از فرآیندها\n",
    "- مقدار time quantum\n",
    "- هزینه context switching\n",
    "\n",
    "الگوریتم تا زمانی که همه فرآیندها کامل شوند ادامه می‌دهد."
   ]
  },
  {
   "cell_type": "code",
   "execution_count": 2,
   "metadata": {},
   "outputs": [],
   "source": [
    "from collections import deque\n",
    "\n",
    "def round_robin(processes, quantum, context_switch):\n",
    "    n = len(processes)\n",
    "    time = 0\n",
    "    completed = 0\n",
    "    ready_queue = deque()\n",
    "    in_queue = [False] * n\n",
    "\n",
    "    processes.sort(key=lambda p: p.arrivalTime)\n",
    "\n",
    "    for i, p in enumerate(processes):\n",
    "        if p.arrivalTime <= time:\n",
    "            ready_queue.append(i)\n",
    "            in_queue[i] = True\n",
    "\n",
    "    while completed < n:\n",
    "        if not ready_queue:\n",
    "            time += 1\n",
    "            for i, p in enumerate(processes):\n",
    "                if p.arrivalTime <= time and not in_queue[i]:\n",
    "                    ready_queue.append(i)\n",
    "                    in_queue[i] = True\n",
    "            continue\n",
    "\n",
    "        index = ready_queue.popleft()\n",
    "        process = processes[index]\n",
    "\n",
    "        if process.remainingTime > quantum:\n",
    "            time += quantum\n",
    "            process.remainingTime -= quantum\n",
    "            time += context_switch\n",
    "            ready_queue.append(index)\n",
    "        else:\n",
    "            time += process.remainingTime\n",
    "            process.remainingTime = 0\n",
    "            process.completionTime = time\n",
    "            process.turnaroundTime = time - process.arrivalTime\n",
    "            process.waitingTime = process.turnaroundTime - process.burstTime\n",
    "            completed += 1\n",
    "\n",
    "        for i, p in enumerate(processes):\n",
    "            if p.arrivalTime <= time and not in_queue[i] and p.remainingTime > 0:\n",
    "                ready_queue.append(i)\n",
    "                in_queue[i] = True\n",
    "\n",
    "    return processes"
   ]
  },
  {
   "cell_type": "markdown",
   "metadata": {},
   "source": [
    "## اجرای برنامه با داده نمونه\n",
    "\n",
    "ورودی نمونه بر اساس مثال موجود در کد C++:"
   ]
  },
  {
   "cell_type": "code",
   "execution_count": 3,
   "metadata": {},
   "outputs": [
    {
     "name": "stdout",
     "output_type": "stream",
     "text": [
      "PID\tArrival\tBurst\tCompletion\tTurnaround\tWaiting\n",
      "1\t2\t1\t3\t\t1\t\t0\n",
      "2\t4\t5\t12\t\t8\t\t3\n",
      "3\t6\t1\t11\t\t5\t\t4\n",
      "\n",
      "Average Waiting Time: 2.33333\n",
      "Average Turnaround Time: 4.66667\n"
     ]
    }
   ],
   "source": [
    "process_list = [\n",
    "    Process(1, 2, 1),\n",
    "    Process(2, 4, 5),\n",
    "    Process(3, 6, 1)\n",
    "]\n",
    "\n",
    "quantum = 2\n",
    "context_switch = 1\n",
    "\n",
    "result = round_robin(process_list, quantum, context_switch)\n",
    "\n",
    "print(\"PID\\tArrival\\tBurst\\tCompletion\\tTurnaround\\tWaiting\")\n",
    "for p in result:\n",
    "    print(f\"{p.pid}\\t{p.arrivalTime}\\t{p.burstTime}\\t{p.completionTime}\\t\\t{p.turnaroundTime}\\t\\t{p.waitingTime}\")\n",
    "\n",
    "avg_waiting = sum(p.waitingTime for p in result) / len(result)\n",
    "avg_turnaround = sum(p.turnaroundTime for p in result) / len(result)\n",
    "print(f\"\\nAverage Waiting Time: {avg_waiting:.5f}\")\n",
    "print(f\"Average Turnaround Time: {avg_turnaround:.5f}\")"
   ]
  },
  {
   "cell_type": "code",
   "execution_count": 4,
   "id": "331a400d",
   "metadata": {},
   "outputs": [
    {
     "data": {
      "image/png": "[encoded data removed]",
      "text/plain": [
       "<Figure size 1000x200 with 1 Axes>"
      ]
     },
     "metadata": {},
     "output_type": "display_data"
    }
   ],
   "source": [
    "import matplotlib.pyplot as plt\n",
    "\n",
    "# اجرای واقعی الگوریتم، همراه با ثبت گانت چارت\n",
    "def round_robin_with_gantt(processes, quantum, context_switch):\n",
    "    n = len(processes)\n",
    "    time = 0\n",
    "    queue = []\n",
    "    in_queue = [False] * n\n",
    "    completed = 0\n",
    "    gantt_chart = []  # لیست برای نگه‌داری [(pid, start_time, end_time)]\n",
    "\n",
    "    processes.sort(key=lambda x: x['arrival'])\n",
    "\n",
    "    # اضافه کردن پردازه‌هایی که از ابتدا آماده‌اند\n",
    "    for i in range(n):\n",
    "        if processes[i]['arrival'] <= time:\n",
    "            queue.append(i)\n",
    "            in_queue[i] = True\n",
    "\n",
    "    while completed < n:\n",
    "        if not queue:\n",
    "            time += 1\n",
    "            for i in range(n):\n",
    "                if processes[i]['arrival'] <= time and not in_queue[i]:\n",
    "                    queue.append(i)\n",
    "                    in_queue[i] = True\n",
    "            continue\n",
    "\n",
    "        index = queue.pop(0)\n",
    "\n",
    "        start_time = time\n",
    "        if processes[index]['remaining'] > quantum:\n",
    "            time += quantum\n",
    "            processes[index]['remaining'] -= quantum\n",
    "            queue.append(index)\n",
    "        else:\n",
    "            time += processes[index]['remaining']\n",
    "            processes[index]['completion'] = time\n",
    "            processes[index]['turnaround'] = time - processes[index]['arrival']\n",
    "            processes[index]['waiting'] = processes[index]['turnaround'] - processes[index]['burst']\n",
    "            processes[index]['remaining'] = 0\n",
    "            completed += 1\n",
    "\n",
    "        gantt_chart.append((processes[index]['pid'], start_time, time))\n",
    "\n",
    "        time += context_switch\n",
    "\n",
    "        # اضافه کردن پردازه‌هایی که تا این لحظه رسیده‌اند و هنوز در صف نیستند\n",
    "        for i in range(n):\n",
    "            if processes[i]['arrival'] <= time and not in_queue[i] and processes[i]['remaining'] > 0:\n",
    "                queue.append(i)\n",
    "                in_queue[i] = True\n",
    "\n",
    "    return gantt_chart\n",
    "\n",
    "\n",
    "# داده‌های ورودی\n",
    "processes = [\n",
    "    {'pid': 1, 'arrival': 2, 'burst': 1, 'remaining': 1},\n",
    "    {'pid': 2, 'arrival': 4, 'burst': 5, 'remaining': 5},\n",
    "    {'pid': 3, 'arrival': 6, 'burst': 1, 'remaining': 1}\n",
    "]\n",
    "\n",
    "quantum = 2\n",
    "context_switch = 1\n",
    "\n",
    "gantt = round_robin_with_gantt(processes, quantum, context_switch)\n",
    "\n",
    "# رسم گانت چارت\n",
    "fig, ax = plt.subplots(figsize=(10, 2))\n",
    "for pid, start, end in gantt:\n",
    "    ax.barh(0, end - start, left=start, edgecolor='black', label=f'P{pid}')\n",
    "    ax.text((start + end) / 2, 0, f'P{pid}', va='center', ha='center', color='white', fontsize=9)\n",
    "\n",
    "ax.set_yticks([])\n",
    "ax.set_xlabel(\"Time\")\n",
    "ax.set_title(\"Gantt Chart - Round Robin Scheduling\")\n",
    "ax.set_xlim(0, max([end for _, _, end in gantt]) + 1)\n",
    "plt.tight_layout()\n",
    "plt.show()"
   ]
  }
 ],
 "metadata": {
  "kernelspec": {
   "display_name": "myenv",
   "language": "python",
   "name": "python3"
  },
  "language_info": {
   "codemirror_mode": {
    "name": "ipython",
    "version": 3
   },
   "file_extension": ".py",
   "mimetype": "text/x-python",
   "name": "python",
   "nbconvert_exporter": "python",
   "pygments_lexer": "ipython3",
   "version": "3.13.2"
  }
 },
 "nbformat": 4,
 "nbformat_minor": 5
}

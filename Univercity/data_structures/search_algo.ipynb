{
 "cells": [
  {
   "cell_type": "markdown",
   "id": "d783a988",
   "metadata": {},
   "source": [
    "# linear_search O(n)"
   ]
  },
  {
   "cell_type": "code",
   "execution_count": 1,
   "id": "e23f7897",
   "metadata": {},
   "outputs": [
    {
     "name": "stdout",
     "output_type": "stream",
     "text": [
      "5\n"
     ]
    }
   ],
   "source": [
    "def linear_search(target , input_list):\n",
    "    for i in range(len(input_list)):\n",
    "        if target == input_list[i] :\n",
    "            return i\n",
    "    return -1\n",
    "    \n",
    "target = 6\n",
    "input_list = [1,2,3,4,5,6,7,]\n",
    "print(linear_search(target , input_list))"
   ]
  },
  {
   "cell_type": "markdown",
   "id": "0a029941",
   "metadata": {},
   "source": [
    "# bineary_search O(1) to O(log(n)"
   ]
  },
  {
   "cell_type": "code",
   "execution_count": 2,
   "id": "15e91c4c",
   "metadata": {},
   "outputs": [
    {
     "name": "stdout",
     "output_type": "stream",
     "text": [
      "True\n"
     ]
    }
   ],
   "source": [
    "def bineary_search(input,list):\n",
    "    low = 0\n",
    "    high = len(list) - 1\n",
    "    while low <= high:\n",
    "        mid = (low + high) // 2\n",
    "        if input == list[mid]:\n",
    "            return True\n",
    "        elif input > list[mid]:\n",
    "            low = mid+1\n",
    "        else:\n",
    "            high = mid - 1 \n",
    "    return False\n",
    "\n",
    "\n",
    "input = 6\n",
    "list = [1,2,4,6,7,9,13,567,432]\n",
    "list = sorted(list)\n",
    "print(bineary_search(input , list))"
   ]
  }
 ],
 "metadata": {
  "kernelspec": {
   "display_name": ".venv",
   "language": "python",
   "name": "python3"
  },
  "language_info": {
   "codemirror_mode": {
    "name": "ipython",
    "version": 3
   },
   "file_extension": ".py",
   "mimetype": "text/x-python",
   "name": "python",
   "nbconvert_exporter": "python",
   "pygments_lexer": "ipython3",
   "version": "3.13.3"
  }
 },
 "nbformat": 4,
 "nbformat_minor": 5
}

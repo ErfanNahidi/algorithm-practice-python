{
 "cells": [
  {
   "cell_type": "markdown",
   "id": "0ce7930e",
   "metadata": {},
   "source": [
    "# Counting_sort\n",
    "\n",
    "💡 What is Counting Sort?\n",
    "\n",
    "Counting Sort is a non-comparison sorting algorithm. It assumes the input consists of integers in a small known range (0 to k). It counts occurrences of each value and then reconstructs the sorted array using these counts. It's O(n + k) time and O(k) space."
   ]
  },
  {
   "cell_type": "markdown",
   "id": "3696f2dc",
   "metadata": {},
   "source": [
    "## first we should find the count of each number and max number"
   ]
  },
  {
   "cell_type": "code",
   "execution_count": 18,
   "id": "a92d21ea",
   "metadata": {},
   "outputs": [
    {
     "name": "stdout",
     "output_type": "stream",
     "text": [
      "Sorted array: [1, 2, 2, 3, 3, 4, 8]\n"
     ]
    }
   ],
   "source": [
    "def counting_sort(arr):\n",
    "    if not arr:\n",
    "        return []\n",
    "\n",
    "    max_val = max(arr)\n",
    "    count = [0] * (max_val + 1)\n",
    "\n",
    "    # Step 1: Count occurrences\n",
    "    for num in arr:\n",
    "        count[num] += 1\n",
    "\n",
    "    # Step 2: Reconstruct sorted array\n",
    "    sorted_arr = []\n",
    "    for num, freq in enumerate(count):\n",
    "        sorted_arr.extend([num] * freq)\n",
    "\n",
    "    return sorted_arr\n",
    "\n",
    "arr = [4, 2, 2, 8, 3, 3, 1]\n",
    "sorted_arr = counting_sort(arr)\n",
    "print(\"Sorted array:\", sorted_arr)"
   ]
  },
  {
   "cell_type": "markdown",
   "id": "4ab43b78",
   "metadata": {},
   "source": [
    "⚠️ Limitations\n",
    "\n",
    "    Only for integers\n",
    "\n",
    "    Performs poorly if max(arr) is much larger than len(arr)\n",
    "\n",
    "    Not in-place (uses O(k) extra space)\n",
    "\n",
    "✅ Best Use Cases\n",
    "\n",
    "    When the range of input values is small\n",
    "\n",
    "    When you need stable sorting (can be modified for that)\n",
    "\n",
    "    Great for things like sorting exam scores, ages, etc."
   ]
  },
  {
   "cell_type": "markdown",
   "id": "65e2cf95",
   "metadata": {},
   "source": [
    "# Insertion_sort O(n^2)"
   ]
  },
  {
   "cell_type": "markdown",
   "id": "ec71d2da",
   "metadata": {},
   "source": [
    "💡 What is Insertion Sort?\n",
    "\n",
    "Insertion Sort is a simple, comparison-based, in-place sorting algorithm. It builds the final sorted array one item at a time, like sorting cards in hand.\n",
    "\n",
    "    Time Complexity:\n",
    "\n",
    "        Worst: O(n²)\n",
    "\n",
    "        Best (already sorted): O(n)\n",
    "\n",
    "    Space: O(1) (in-place)"
   ]
  },
  {
   "cell_type": "code",
   "execution_count": 19,
   "id": "28f84ea5",
   "metadata": {},
   "outputs": [
    {
     "name": "stdout",
     "output_type": "stream",
     "text": [
      "[11, 12, 22, 25, 34, 64, 90]\n"
     ]
    }
   ],
   "source": [
    "def insertion_sort(arr):\n",
    "    for i in range(1, len(arr)):\n",
    "        key = arr[i]\n",
    "        j = i - 1\n",
    "\n",
    "        # Shift larger elements to the right\n",
    "        while j >= 0 and arr[j] > key:\n",
    "            arr[j + 1] = arr[j]\n",
    "            j -= 1\n",
    "\n",
    "        # Insert the key in the correct position\n",
    "        arr[j + 1] = key\n",
    "\n",
    "    return arr\n",
    "\n",
    "\n",
    "lst = [64, 34, 25, 12, 22, 11, 90]\n",
    "print(insertion_sort(lst))"
   ]
  },
  {
   "cell_type": "markdown",
   "id": "40259fa5",
   "metadata": {},
   "source": [
    "✅ Best Use Cases\n",
    "\n",
    "    Small arrays\n",
    "\n",
    "    Nearly sorted arrays (adaptive behavior)\n",
    "\n",
    "⚠️ Limitations\n",
    "\n",
    "    Slow for large datasets (O(n²))\n",
    "\n",
    "    Not cache-friendly like Merge/Quick"
   ]
  },
  {
   "cell_type": "markdown",
   "id": "36c1b362",
   "metadata": {},
   "source": [
    "# Bubble_sort O(n^2)\n",
    "💡 What is Bubble Sort?\n",
    "\n",
    "Bubble Sort repeatedly compares adjacent elements and swaps them if they're in the wrong order. It \"bubbles\" the largest unsorted element to its correct position each pass.\n",
    "\n",
    "    Time Complexity:\n",
    "    Worst/Average: O(n²)\n",
    "    Best (sorted): O(n)\n",
    "\n",
    "    Space: O(1) (in-place)"
   ]
  },
  {
   "cell_type": "code",
   "execution_count": 20,
   "id": "f8a68596",
   "metadata": {},
   "outputs": [
    {
     "name": "stdout",
     "output_type": "stream",
     "text": [
      "[5, 12, 3, 4, 7, 1, 0, 6, 19, 8, 13, 4, 2, 10, 16]\n",
      "[0, 5, 12, 3, 4, 7, 1, 2, 6, 19, 8, 13, 4, 10, 16]\n",
      "[0, 1, 5, 12, 3, 4, 7, 2, 4, 6, 19, 8, 13, 10, 16]\n",
      "[0, 1, 2, 5, 12, 3, 4, 7, 4, 6, 8, 19, 10, 13, 16]\n",
      "[0, 1, 2, 3, 5, 12, 4, 4, 7, 6, 8, 10, 19, 13, 16]\n",
      "[0, 1, 2, 3, 4, 5, 12, 4, 6, 7, 8, 10, 13, 19, 16]\n",
      "[0, 1, 2, 3, 4, 4, 5, 12, 6, 7, 8, 10, 13, 16, 19]\n",
      "[0, 1, 2, 3, 4, 4, 5, 6, 12, 7, 8, 10, 13, 16, 19]\n",
      "[0, 1, 2, 3, 4, 4, 5, 6, 7, 12, 8, 10, 13, 16, 19]\n",
      "[0, 1, 2, 3, 4, 4, 5, 6, 7, 8, 12, 10, 13, 16, 19]\n",
      "[0, 1, 2, 3, 4, 4, 5, 6, 7, 8, 10, 12, 13, 16, 19]\n"
     ]
    }
   ],
   "source": [
    "A = [5, 12, 3, 4, 7, 1, 0, 6, 19, 8, 13, 4, 2, 10, 16]\n",
    "print(A)\n",
    "n = len(A)\n",
    "for i in range(n-1):\n",
    "    bubble_found = False\n",
    "    for j in range(n-1, i, -1):\n",
    "        if A[j] < A[j-1]:\n",
    "            A[j],A[j-1] = A[j-1], A[j]\n",
    "            bubble_found = True\n",
    "    if not bubble_found:     # Stopping when array is sorted\n",
    "        break            \n",
    "    print(A)"
   ]
  },
  {
   "cell_type": "markdown",
   "id": "e6e10a51",
   "metadata": {},
   "source": [
    "\n",
    "✅ Best Use Cases\n",
    "\n",
    "    Teaching sorting basics\n",
    "\n",
    "    Very small datasets\n",
    "\n",
    "⚠️ Limitations\n",
    "\n",
    "    Very inefficient on large arrays\n",
    "\n",
    "    Not used in real-world systems"
   ]
  },
  {
   "cell_type": "markdown",
   "id": "03dadbc2",
   "metadata": {},
   "source": [
    "# Selection_sort\n",
    "💡 What is Selection Sort?\n",
    "\n",
    "Selection Sort repeatedly selects the minimum element from the unsorted part and places it at the beginning. It reduces the unsorted section one by one.\n",
    "\n",
    "    Time Complexity: Always O(n²)\n",
    "\n",
    "    Space: O(1) (in-place)\n",
    "\n",
    "    Swaps: At most n - 1 (fewer than bubble)"
   ]
  },
  {
   "cell_type": "code",
   "execution_count": 21,
   "id": "1014bac3",
   "metadata": {},
   "outputs": [
    {
     "name": "stdout",
     "output_type": "stream",
     "text": [
      "[11, 12, 22, 25, 64]\n"
     ]
    }
   ],
   "source": [
    "def selection_sort(arr):\n",
    "    n = len(arr)\n",
    "    for i in range(n):\n",
    "        min_index = i\n",
    "\n",
    "        # Find the index of the minimum element\n",
    "        for j in range(i + 1, n):\n",
    "            if arr[j] < arr[min_index]:\n",
    "                min_index = j\n",
    "\n",
    "        # Swap the found minimum with the first unsorted element\n",
    "        arr[i], arr[min_index] = arr[min_index], arr[i]\n",
    "\n",
    "    return arr\n",
    "\n",
    "arr = [64, 25, 12, 22, 11]\n",
    "print(selection_sort(arr))"
   ]
  },
  {
   "cell_type": "markdown",
   "id": "901bbd02",
   "metadata": {},
   "source": [
    "✅ Best Use Cases\n",
    "\n",
    "    When memory write count matters (e.g., EEPROM)\n",
    "\n",
    "    Educational use\n",
    "\n",
    "⚠️ Limitations\n",
    "\n",
    "    Inefficient on large arrays (O(n²))\n",
    "\n",
    "    No early-exit optimization (like bubble sort)"
   ]
  },
  {
   "cell_type": "markdown",
   "id": "b812161f",
   "metadata": {},
   "source": [
    "### ✅ **Stable vs Unstable Sorting Algorithms**\n",
    "\n",
    "#### 🔍 Definition\n",
    "\n",
    "* **Stable Sort**:\n",
    "  Maintains the **relative order of equal elements**.\n",
    "  If `a == b` and `a` appears before `b`, this order is preserved.\n",
    "\n",
    "* **Unstable Sort**:\n",
    "  May **reorder equal elements** arbitrarily.\n",
    "\n",
    "---\n",
    "\n",
    "### 📌 **Why Stability Matters**\n",
    "\n",
    "Suppose you sort people by **age**, but names are the tie-breaker:\n",
    "\n",
    "```python\n",
    "[(\"Ali\", 25), (\"Sara\", 25), (\"Reza\", 30)]\n",
    "```\n",
    "\n",
    "If sorted **by age**, a **stable** sort keeps `(\"Ali\", 25)` before `(\"Sara\", 25)`.\n",
    "\n",
    "In multi-key sorting (e.g., `sort by age, then name`), **stability is critical**.\n",
    "\n",
    "---\n",
    "\n",
    "### ✅ **Stable Sorting Algorithms**\n",
    "\n",
    "* **Bubble Sort**\n",
    "* **Insertion Sort**\n",
    "* **Merge Sort**\n",
    "* **Counting Sort** (with stable implementation)\n",
    "* **TimSort** (used in Python’s `sorted()` and Java's `Arrays.sort()`)\n",
    "\n",
    "---\n",
    "\n",
    "### ❌ **Unstable Sorting Algorithms**\n",
    "\n",
    "* **Selection Sort**\n",
    "* **Quick Sort** (standard implementation)\n",
    "* **Heap Sort**\n",
    "\n",
    "---\n",
    "\n",
    "### 🔧 Rule of Thumb\n",
    "\n",
    "* If stability matters → use stable sort.\n",
    "* If it doesn't (e.g., sorting integers only) → go for efficiency.\n",
    "\n",
    "Want a stable version of an unstable sort? It can often be forced. Ask if needed.\n"
   ]
  },
  {
   "cell_type": "markdown",
   "id": "02a8945e",
   "metadata": {},
   "source": [
    "# Bucket_sort\n",
    "💡 What is Bucket Sort?\n",
    "\n",
    "Bucket Sort distributes elements into multiple buckets, sorts each bucket (usually with another algorithm), and concatenates the results. Works best for uniformly distributed floats in [0, 1).\n",
    "\n",
    "    Time Complexity:\n",
    "\n",
    "        Best: O(n)\n",
    "\n",
    "        Worst: O(n²) (if all fall in one bucket)\n",
    "\n",
    "    Space: O(n + k) where k = number of buckets"
   ]
  },
  {
   "cell_type": "code",
   "execution_count": 22,
   "id": "b23b8d03",
   "metadata": {},
   "outputs": [
    {
     "name": "stdout",
     "output_type": "stream",
     "text": [
      "Sorted array using bucket sort: [0.17, 0.21, 0.26, 0.39, 0.72, 0.78, 0.82, 0.94]\n"
     ]
    }
   ],
   "source": [
    "def bucket_sort(arr):\n",
    "    n = len(arr)\n",
    "    if n == 0:\n",
    "        return []\n",
    "\n",
    "    # Step 1: Create empty buckets\n",
    "    buckets = [[] for _ in range(n)]\n",
    "\n",
    "    # Step 2: Distribute elements into buckets\n",
    "    for num in arr:\n",
    "        index = int(num * n)\n",
    "        buckets[index].append(num)\n",
    "\n",
    "    # Step 3: Sort each bucket\n",
    "    for i in range(n):\n",
    "        buckets[i].sort()\n",
    "\n",
    "    # Step 4: Concatenate buckets\n",
    "    sorted_arr = []\n",
    "    for bucket in buckets:\n",
    "        sorted_arr.extend(bucket)\n",
    "\n",
    "    return sorted_arr\n",
    "\n",
    "arr = [0.78, 0.17, 0.39, 0.26, 0.72, 0.94, 0.21, 0.82]\n",
    "sorted_arr = bucket_sort(arr)\n",
    "print(\"Sorted array using bucket sort:\", sorted_arr)"
   ]
  },
  {
   "cell_type": "markdown",
   "id": "f4dba73d",
   "metadata": {},
   "source": [
    "✅ Best Use Cases\n",
    "\n",
    "    Real numbers in [0, 1) with uniform distribution\n",
    "\n",
    "    Large datasets where comparison-based sorting is costly\n",
    "\n",
    "⚠️ Limitations\n",
    "\n",
    "    Only for numeric data\n",
    "\n",
    "    Requires good choice of bucket count and distribution\n",
    "\n",
    "    Not stable unless extra care is taken\n"
   ]
  },
  {
   "cell_type": "markdown",
   "id": "9bb2cf59",
   "metadata": {},
   "source": [
    "# Radix_sort\n",
    "\n",
    "💡 What is Radix Sort?\n",
    "\n",
    "Radix Sort is a non-comparison, digit-by-digit sorting algorithm. It processes numbers from least significant digit (LSD) to most significant digit (MSD). It uses a stable sort (like Counting Sort) at each digit level.\n",
    "\n",
    "    Time Complexity: O(n * k) where k = number of digits\n",
    "\n",
    "    Space: O(n + b) (b = base, usually 10)"
   ]
  },
  {
   "cell_type": "code",
   "execution_count": 24,
   "id": "832a610a",
   "metadata": {},
   "outputs": [
    {
     "name": "stdout",
     "output_type": "stream",
     "text": [
      "Sorted array: [1, 2, 2, 3, 3, 4, 8]\n"
     ]
    }
   ],
   "source": [
    "def counting_sort(arr):\n",
    "    if not arr:\n",
    "        return []\n",
    "\n",
    "    max_val = max(arr)\n",
    "    count = [0] * (max_val + 1)\n",
    "\n",
    "    # Step 1: Count occurrences\n",
    "    for num in arr:\n",
    "        count[num] += 1\n",
    "\n",
    "    # Step 2: Reconstruct sorted array\n",
    "    sorted_arr = []\n",
    "    for num, freq in enumerate(count):\n",
    "        sorted_arr.extend([num] * freq)\n",
    "\n",
    "    return sorted_arr\n",
    "\n",
    "# Example usage\n",
    "if __name__ == \"__main__\":\n",
    "    arr = [4, 2, 2, 8, 3, 3, 1]\n",
    "    sorted_arr = counting_sort(arr)\n",
    "    print(\"Sorted array:\", sorted_arr)"
   ]
  },
  {
   "cell_type": "markdown",
   "id": "33328bc0",
   "metadata": {},
   "source": [
    "⚠️ Limitations\n",
    "\n",
    "    Only for integers\n",
    "\n",
    "    Performs poorly if max(arr) is much larger than len(arr)\n",
    "\n",
    "    Not in-place (uses O(k) extra space)\n",
    "\n",
    "✅ Best Use Cases\n",
    "\n",
    "    When the range of input values is small\n",
    "\n",
    "    When you need stable sorting (can be modified for that)\n",
    "\n",
    "    Great for things like sorting exam scores, ages, etc."
   ]
  }
 ],
 "metadata": {
  "kernelspec": {
   "display_name": "venv",
   "language": "python",
   "name": "python3"
  },
  "language_info": {
   "codemirror_mode": {
    "name": "ipython",
    "version": 3
   },
   "file_extension": ".py",
   "mimetype": "text/x-python",
   "name": "python",
   "nbconvert_exporter": "python",
   "pygments_lexer": "ipython3",
   "version": "3.13.3"
  }
 },
 "nbformat": 4,
 "nbformat_minor": 5
}

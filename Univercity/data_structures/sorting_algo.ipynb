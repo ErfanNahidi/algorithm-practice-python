{
 "cells": [
  {
   "cell_type": "markdown",
   "id": "65e2cf95",
   "metadata": {},
   "source": [
    "# Insertion_sort O(n^2)"
   ]
  },
  {
   "cell_type": "code",
   "execution_count": 3,
   "id": "28f84ea5",
   "metadata": {},
   "outputs": [
    {
     "name": "stdout",
     "output_type": "stream",
     "text": [
      "[11, 12, 22, 25, 34, 64, 90]\n"
     ]
    }
   ],
   "source": [
    "def insertion_sort(arr):\n",
    "    for i in range(1 , len(arr)):\n",
    "        key = arr[i]\n",
    "        j = i - 1 \n",
    "        while j >= 0 and arr[j] > key:\n",
    "            arr[j+1] = arr[j]\n",
    "            j -= 1 \n",
    "        arr[j+1] = key\n",
    "    return arr\n",
    "\n",
    "lst = [64, 34, 25, 12, 22, 11, 90]\n",
    "print(insertion_sort(lst))"
   ]
  },
  {
   "cell_type": "markdown",
   "id": "36c1b362",
   "metadata": {},
   "source": [
    "# Bubble_sort O(n^2)"
   ]
  },
  {
   "cell_type": "code",
   "execution_count": 2,
   "id": "f8a68596",
   "metadata": {},
   "outputs": [
    {
     "name": "stdout",
     "output_type": "stream",
     "text": [
      "[11, 12, 22, 25, 34, 64, 90]\n"
     ]
    }
   ],
   "source": [
    "def Bubble_sort(list):\n",
    "    for i in range(len(list)):\n",
    "        for j in range(len(list)-1-i):\n",
    "            if list[j] > list[j+1]:\n",
    "                list[j], list[j+1] = list[j+1], list[j]\n",
    "    return list\n",
    "\n",
    "list = [64, 34, 25, 12, 22, 11, 90]\n",
    "print(Bubble_sort(list))"
   ]
  }
 ],
 "metadata": {
  "kernelspec": {
   "display_name": "myenv",
   "language": "python",
   "name": "python3"
  },
  "language_info": {
   "codemirror_mode": {
    "name": "ipython",
    "version": 3
   },
   "file_extension": ".py",
   "mimetype": "text/x-python",
   "name": "python",
   "nbconvert_exporter": "python",
   "pygments_lexer": "ipython3",
   "version": "3.13.2"
  }
 },
 "nbformat": 4,
 "nbformat_minor": 5
}
